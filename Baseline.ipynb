{
 "cells": [
  {
   "cell_type": "code",
   "execution_count": 16,
   "metadata": {
    "collapsed": false
   },
   "outputs": [],
   "source": [
    "import pandas as pd\n",
    "import numpy as np\n",
    "from sklearn.metrics import mean_absolute_error, mean_squared_error\n",
    "from sklearn.linear_model import LinearRegression\n",
    "from sklearn.cross_validation import train_test_split\n",
    "\n"
   ]
  },
  {
   "cell_type": "code",
   "execution_count": 55,
   "metadata": {
    "collapsed": true
   },
   "outputs": [],
   "source": [
    " def percent_error(y_true,y_pred):\n",
    "        r = y_true.shape[0]\n",
    "        J = np.abs(y_true - y_pred)\n",
    "        norm = np.linalg.norm(np.true_divide(J,y_true))\n",
    "        loss = np.square(norm) / (2*r)\n",
    "        return loss"
   ]
  },
  {
   "cell_type": "code",
   "execution_count": 57,
   "metadata": {
    "collapsed": true
   },
   "outputs": [],
   "source": [
    "def mae(test,pred):\n",
    "    output_errors = np.average(np.abs(pred - test), axis=0)\n",
    "    return np.average(output_errors)"
   ]
  },
  {
   "cell_type": "code",
   "execution_count": 56,
   "metadata": {
    "collapsed": false
   },
   "outputs": [
    {
     "name": "stdout",
     "output_type": "stream",
     "text": [
      "r score:  0.15744929561\n",
      "mean squared error:  24531350415.6\n",
      "mean absolute error:  102003.449964\n",
      "percent error : 0.341910300805\n"
     ]
    }
   ],
   "source": [
    "train  = pd.read_excel('Mytrain.xlsx',sheetname='Sheet1')\n",
    "X_train = train.drop(['ID','Salary','DOJ','DOL','Designation','JobCity'], axis=1)\n",
    "#Keeping only numeric data\n",
    "X_train = X_train._get_numeric_data()\n",
    "\n",
    "y_train = train.Salary\n",
    "\n",
    "clf = LinearRegression()\n",
    "clf = clf.fit(X_train, y_train)\n",
    "test = pd.read_excel('Mytrain.xlsx',sheetname='Sheet2')\n",
    "# removing ID and Salary\n",
    "X_test = test.drop(['ID', 'Salary','DOJ','DOL','Designation','JobCity'], axis=1)\n",
    "#Keeping only numeric data\n",
    "X_test = X_test._get_numeric_data()\n",
    "y_test = test.Salary\n",
    "\n",
    "xdf = pd.DataFrame(X_test)\n",
    "xdf_mat = xdf.as_matrix()\n",
    "ydf = pd.DataFrame(y_test)\n",
    "ydf_mat= ydf.as_matrix()\n",
    "r_sqr = clf.score(xdf_mat,ydf_mat)\n",
    "y_pred = clf.predict(xdf_mat)\n",
    "\n",
    "print 'r score: ' , r_sqr\n",
    "mse = mean_squared_error(y_test, y_pred)\n",
    "percent_error = percent_error(y_test,y_pred)\n",
    "error = mae(y_test, y_pred)\n",
    "print 'mean squared error: ', mse\n",
    "print 'mean absolute error: ' , error\n",
    "print 'percent error :', percent_error\n"
   ]
  }
 ],
 "metadata": {
  "kernelspec": {
   "display_name": "Python 2",
   "language": "python",
   "name": "python2"
  },
  "language_info": {
   "codemirror_mode": {
    "name": "ipython",
    "version": 2
   },
   "file_extension": ".py",
   "mimetype": "text/x-python",
   "name": "python",
   "nbconvert_exporter": "python",
   "pygments_lexer": "ipython2",
   "version": "2.7.6"
  }
 },
 "nbformat": 4,
 "nbformat_minor": 0
}
